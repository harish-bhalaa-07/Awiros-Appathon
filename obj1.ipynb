{
 "cells": [
  {
   "cell_type": "code",
   "execution_count": 2,
   "metadata": {},
   "outputs": [
    {
     "name": "stdout",
     "output_type": "stream",
     "text": [
      "Tue Oct 24 12:21:40 2023       \n",
      "+---------------------------------------------------------------------------------------+\n",
      "| NVIDIA-SMI 537.34                 Driver Version: 537.34       CUDA Version: 12.2     |\n",
      "|-----------------------------------------+----------------------+----------------------+\n",
      "| GPU  Name                     TCC/WDDM  | Bus-Id        Disp.A | Volatile Uncorr. ECC |\n",
      "| Fan  Temp   Perf          Pwr:Usage/Cap |         Memory-Usage | GPU-Util  Compute M. |\n",
      "|                                         |                      |               MIG M. |\n",
      "|=========================================+======================+======================|\n",
      "|   0  NVIDIA GeForce RTX 3050 ...  WDDM  | 00000000:01:00.0 Off |                  N/A |\n",
      "| N/A   40C    P3              17W /  30W |      0MiB /  4096MiB |      0%      Default |\n",
      "|                                         |                      |                  N/A |\n",
      "+-----------------------------------------+----------------------+----------------------+\n",
      "                                                                                         \n",
      "+---------------------------------------------------------------------------------------+\n",
      "| Processes:                                                                            |\n",
      "|  GPU   GI   CI        PID   Type   Process name                            GPU Memory |\n",
      "|        ID   ID                                                             Usage      |\n",
      "|=======================================================================================|\n",
      "|  No running processes found                                                           |\n",
      "+---------------------------------------------------------------------------------------+\n"
     ]
    }
   ],
   "source": [
    "!nvidia-smi"
   ]
  },
  {
   "cell_type": "code",
   "execution_count": 1,
   "metadata": {},
   "outputs": [
    {
     "name": "stdout",
     "output_type": "stream",
     "text": [
      "d:\\Works\\awiros\n"
     ]
    }
   ],
   "source": [
    "import os \n",
    "HOME = os.getcwd() \n",
    "print(HOME)"
   ]
  },
  {
   "cell_type": "code",
   "execution_count": 5,
   "metadata": {},
   "outputs": [
    {
     "name": "stdout",
     "output_type": "stream",
     "text": [
      "Collecting ultralytics==8.0.20\n",
      "  Downloading ultralytics-8.0.20-py3-none-any.whl (261 kB)\n",
      "     ---------------------------------------- 0.0/261.2 kB ? eta -:--:--\n",
      "     - -------------------------------------- 10.2/261.2 kB ? eta -:--:--\n",
      "     - -------------------------------------- 10.2/261.2 kB ? eta -:--:--\n",
      "     ---- -------------------------------- 30.7/261.2 kB 325.1 kB/s eta 0:00:01\n",
      "     -------- ---------------------------- 61.4/261.2 kB 409.6 kB/s eta 0:00:01\n",
      "     ---------------------------- --------- 194.6/261.2 kB 1.1 MB/s eta 0:00:01\n",
      "     -------------------------------------  256.0/261.2 kB 1.3 MB/s eta 0:00:01\n",
      "     -------------------------------------- 261.2/261.2 kB 1.1 MB/s eta 0:00:00\n",
      "Requirement already satisfied: matplotlib>=3.2.2 in c:\\users\\shasteeswaran\\anaconda3\\envs\\gpu-env\\lib\\site-packages (from ultralytics==8.0.20) (3.7.2)\n",
      "Requirement already satisfied: numpy>=1.18.5 in c:\\users\\shasteeswaran\\anaconda3\\envs\\gpu-env\\lib\\site-packages (from ultralytics==8.0.20) (1.24.3)\n",
      "Requirement already satisfied: opencv-python>=4.6.0 in c:\\users\\shasteeswaran\\anaconda3\\envs\\gpu-env\\lib\\site-packages (from ultralytics==8.0.20) (4.8.1.78)\n",
      "Requirement already satisfied: Pillow>=7.1.2 in c:\\users\\shasteeswaran\\anaconda3\\envs\\gpu-env\\lib\\site-packages (from ultralytics==8.0.20) (9.4.0)\n",
      "Requirement already satisfied: PyYAML>=5.3.1 in c:\\users\\shasteeswaran\\anaconda3\\envs\\gpu-env\\lib\\site-packages (from ultralytics==8.0.20) (6.0.1)\n",
      "Requirement already satisfied: requests>=2.23.0 in c:\\users\\shasteeswaran\\anaconda3\\envs\\gpu-env\\lib\\site-packages (from ultralytics==8.0.20) (2.31.0)\n",
      "Requirement already satisfied: scipy>=1.4.1 in c:\\users\\shasteeswaran\\anaconda3\\envs\\gpu-env\\lib\\site-packages (from ultralytics==8.0.20) (1.11.2)\n",
      "Requirement already satisfied: torch>=1.7.0 in c:\\users\\shasteeswaran\\anaconda3\\envs\\gpu-env\\lib\\site-packages (from ultralytics==8.0.20) (2.0.1)\n",
      "Requirement already satisfied: torchvision>=0.8.1 in c:\\users\\shasteeswaran\\anaconda3\\envs\\gpu-env\\lib\\site-packages (from ultralytics==8.0.20) (0.15.2)\n",
      "Requirement already satisfied: tqdm>=4.64.0 in c:\\users\\shasteeswaran\\anaconda3\\envs\\gpu-env\\lib\\site-packages (from ultralytics==8.0.20) (4.66.1)\n",
      "Requirement already satisfied: tensorboard>=2.4.1 in c:\\users\\shasteeswaran\\anaconda3\\envs\\gpu-env\\lib\\site-packages (from ultralytics==8.0.20) (2.13.0)\n",
      "Requirement already satisfied: pandas>=1.1.4 in c:\\users\\shasteeswaran\\anaconda3\\envs\\gpu-env\\lib\\site-packages (from ultralytics==8.0.20) (2.1.0)\n",
      "Requirement already satisfied: seaborn>=0.11.0 in c:\\users\\shasteeswaran\\anaconda3\\envs\\gpu-env\\lib\\site-packages (from ultralytics==8.0.20) (0.13.0)\n",
      "Requirement already satisfied: ipython in c:\\users\\shasteeswaran\\anaconda3\\envs\\gpu-env\\lib\\site-packages (from ultralytics==8.0.20) (8.14.0)\n",
      "Requirement already satisfied: psutil in c:\\users\\shasteeswaran\\anaconda3\\envs\\gpu-env\\lib\\site-packages (from ultralytics==8.0.20) (5.9.0)\n",
      "Requirement already satisfied: thop>=0.1.1 in c:\\users\\shasteeswaran\\anaconda3\\envs\\gpu-env\\lib\\site-packages (from ultralytics==8.0.20) (0.1.1.post2209072238)\n",
      "Collecting sentry-sdk (from ultralytics==8.0.20)\n",
      "  Obtaining dependency information for sentry-sdk from https://files.pythonhosted.org/packages/63/25/d22e1e152e4eac10d39d9132d7b5f1ea4bdfa0b9a1d65fc606a7b90aeefb/sentry_sdk-1.32.0-py2.py3-none-any.whl.metadata\n",
      "  Downloading sentry_sdk-1.32.0-py2.py3-none-any.whl.metadata (9.8 kB)\n",
      "Requirement already satisfied: contourpy>=1.0.1 in c:\\users\\shasteeswaran\\anaconda3\\envs\\gpu-env\\lib\\site-packages (from matplotlib>=3.2.2->ultralytics==8.0.20) (1.1.0)\n",
      "Requirement already satisfied: cycler>=0.10 in c:\\users\\shasteeswaran\\anaconda3\\envs\\gpu-env\\lib\\site-packages (from matplotlib>=3.2.2->ultralytics==8.0.20) (0.11.0)\n",
      "Requirement already satisfied: fonttools>=4.22.0 in c:\\users\\shasteeswaran\\anaconda3\\envs\\gpu-env\\lib\\site-packages (from matplotlib>=3.2.2->ultralytics==8.0.20) (4.42.1)\n",
      "Requirement already satisfied: kiwisolver>=1.0.1 in c:\\users\\shasteeswaran\\anaconda3\\envs\\gpu-env\\lib\\site-packages (from matplotlib>=3.2.2->ultralytics==8.0.20) (1.4.5)\n",
      "Requirement already satisfied: packaging>=20.0 in c:\\users\\shasteeswaran\\anaconda3\\envs\\gpu-env\\lib\\site-packages (from matplotlib>=3.2.2->ultralytics==8.0.20) (23.1)\n",
      "Requirement already satisfied: pyparsing<3.1,>=2.3.1 in c:\\users\\shasteeswaran\\anaconda3\\envs\\gpu-env\\lib\\site-packages (from matplotlib>=3.2.2->ultralytics==8.0.20) (3.0.9)\n",
      "Requirement already satisfied: python-dateutil>=2.7 in c:\\users\\shasteeswaran\\anaconda3\\envs\\gpu-env\\lib\\site-packages (from matplotlib>=3.2.2->ultralytics==8.0.20) (2.8.2)\n",
      "Requirement already satisfied: importlib-resources>=3.2.0 in c:\\users\\shasteeswaran\\anaconda3\\envs\\gpu-env\\lib\\site-packages (from matplotlib>=3.2.2->ultralytics==8.0.20) (6.0.1)\n",
      "Requirement already satisfied: pytz>=2020.1 in c:\\users\\shasteeswaran\\anaconda3\\envs\\gpu-env\\lib\\site-packages (from pandas>=1.1.4->ultralytics==8.0.20) (2023.3)\n",
      "Requirement already satisfied: tzdata>=2022.1 in c:\\users\\shasteeswaran\\anaconda3\\envs\\gpu-env\\lib\\site-packages (from pandas>=1.1.4->ultralytics==8.0.20) (2023.3)\n",
      "Requirement already satisfied: charset-normalizer<4,>=2 in c:\\users\\shasteeswaran\\anaconda3\\envs\\gpu-env\\lib\\site-packages (from requests>=2.23.0->ultralytics==8.0.20) (2.0.4)\n",
      "Requirement already satisfied: idna<4,>=2.5 in c:\\users\\shasteeswaran\\anaconda3\\envs\\gpu-env\\lib\\site-packages (from requests>=2.23.0->ultralytics==8.0.20) (3.4)\n",
      "Requirement already satisfied: urllib3<3,>=1.21.1 in c:\\users\\shasteeswaran\\anaconda3\\envs\\gpu-env\\lib\\site-packages (from requests>=2.23.0->ultralytics==8.0.20) (1.26.16)\n",
      "Requirement already satisfied: certifi>=2017.4.17 in c:\\users\\shasteeswaran\\anaconda3\\envs\\gpu-env\\lib\\site-packages (from requests>=2.23.0->ultralytics==8.0.20) (2023.7.22)\n",
      "Requirement already satisfied: absl-py>=0.4 in c:\\users\\shasteeswaran\\anaconda3\\envs\\gpu-env\\lib\\site-packages (from tensorboard>=2.4.1->ultralytics==8.0.20) (1.4.0)\n",
      "Requirement already satisfied: grpcio>=1.48.2 in c:\\users\\shasteeswaran\\anaconda3\\envs\\gpu-env\\lib\\site-packages (from tensorboard>=2.4.1->ultralytics==8.0.20) (1.57.0)\n",
      "Requirement already satisfied: google-auth<3,>=1.6.3 in c:\\users\\shasteeswaran\\anaconda3\\envs\\gpu-env\\lib\\site-packages (from tensorboard>=2.4.1->ultralytics==8.0.20) (2.22.0)\n",
      "Requirement already satisfied: google-auth-oauthlib<1.1,>=0.5 in c:\\users\\shasteeswaran\\anaconda3\\envs\\gpu-env\\lib\\site-packages (from tensorboard>=2.4.1->ultralytics==8.0.20) (1.0.0)\n",
      "Requirement already satisfied: markdown>=2.6.8 in c:\\users\\shasteeswaran\\anaconda3\\envs\\gpu-env\\lib\\site-packages (from tensorboard>=2.4.1->ultralytics==8.0.20) (3.4.4)\n",
      "Requirement already satisfied: protobuf>=3.19.6 in c:\\users\\shasteeswaran\\anaconda3\\envs\\gpu-env\\lib\\site-packages (from tensorboard>=2.4.1->ultralytics==8.0.20) (4.24.2)\n",
      "Requirement already satisfied: setuptools>=41.0.0 in c:\\users\\shasteeswaran\\anaconda3\\envs\\gpu-env\\lib\\site-packages (from tensorboard>=2.4.1->ultralytics==8.0.20) (68.0.0)\n",
      "Requirement already satisfied: tensorboard-data-server<0.8.0,>=0.7.0 in c:\\users\\shasteeswaran\\anaconda3\\envs\\gpu-env\\lib\\site-packages (from tensorboard>=2.4.1->ultralytics==8.0.20) (0.7.1)\n",
      "Requirement already satisfied: werkzeug>=1.0.1 in c:\\users\\shasteeswaran\\anaconda3\\envs\\gpu-env\\lib\\site-packages (from tensorboard>=2.4.1->ultralytics==8.0.20) (2.3.7)\n",
      "Requirement already satisfied: wheel>=0.26 in c:\\users\\shasteeswaran\\anaconda3\\envs\\gpu-env\\lib\\site-packages (from tensorboard>=2.4.1->ultralytics==8.0.20) (0.38.4)\n",
      "Requirement already satisfied: filelock in c:\\users\\shasteeswaran\\anaconda3\\envs\\gpu-env\\lib\\site-packages (from torch>=1.7.0->ultralytics==8.0.20) (3.9.0)\n",
      "Requirement already satisfied: typing-extensions in c:\\users\\shasteeswaran\\anaconda3\\envs\\gpu-env\\lib\\site-packages (from torch>=1.7.0->ultralytics==8.0.20) (4.5.0)\n",
      "Requirement already satisfied: sympy in c:\\users\\shasteeswaran\\anaconda3\\envs\\gpu-env\\lib\\site-packages (from torch>=1.7.0->ultralytics==8.0.20) (1.11.1)\n",
      "Requirement already satisfied: networkx in c:\\users\\shasteeswaran\\anaconda3\\envs\\gpu-env\\lib\\site-packages (from torch>=1.7.0->ultralytics==8.0.20) (3.1)\n",
      "Requirement already satisfied: jinja2 in c:\\users\\shasteeswaran\\anaconda3\\envs\\gpu-env\\lib\\site-packages (from torch>=1.7.0->ultralytics==8.0.20) (3.1.2)\n",
      "Requirement already satisfied: colorama in c:\\users\\shasteeswaran\\anaconda3\\envs\\gpu-env\\lib\\site-packages (from tqdm>=4.64.0->ultralytics==8.0.20) (0.4.6)\n",
      "Requirement already satisfied: backcall in c:\\users\\shasteeswaran\\anaconda3\\envs\\gpu-env\\lib\\site-packages (from ipython->ultralytics==8.0.20) (0.2.0)\n",
      "Requirement already satisfied: decorator in c:\\users\\shasteeswaran\\anaconda3\\envs\\gpu-env\\lib\\site-packages (from ipython->ultralytics==8.0.20) (5.1.1)\n",
      "Requirement already satisfied: jedi>=0.16 in c:\\users\\shasteeswaran\\anaconda3\\envs\\gpu-env\\lib\\site-packages (from ipython->ultralytics==8.0.20) (0.19.0)\n",
      "Requirement already satisfied: matplotlib-inline in c:\\users\\shasteeswaran\\anaconda3\\envs\\gpu-env\\lib\\site-packages (from ipython->ultralytics==8.0.20) (0.1.6)\n",
      "Requirement already satisfied: pickleshare in c:\\users\\shasteeswaran\\anaconda3\\envs\\gpu-env\\lib\\site-packages (from ipython->ultralytics==8.0.20) (0.7.5)\n",
      "Requirement already satisfied: prompt-toolkit!=3.0.37,<3.1.0,>=3.0.30 in c:\\users\\shasteeswaran\\anaconda3\\envs\\gpu-env\\lib\\site-packages (from ipython->ultralytics==8.0.20) (3.0.39)\n",
      "Requirement already satisfied: pygments>=2.4.0 in c:\\users\\shasteeswaran\\anaconda3\\envs\\gpu-env\\lib\\site-packages (from ipython->ultralytics==8.0.20) (2.16.1)\n",
      "Requirement already satisfied: stack-data in c:\\users\\shasteeswaran\\anaconda3\\envs\\gpu-env\\lib\\site-packages (from ipython->ultralytics==8.0.20) (0.6.2)\n",
      "Requirement already satisfied: traitlets>=5 in c:\\users\\shasteeswaran\\anaconda3\\envs\\gpu-env\\lib\\site-packages (from ipython->ultralytics==8.0.20) (5.9.0)\n",
      "Requirement already satisfied: cachetools<6.0,>=2.0.0 in c:\\users\\shasteeswaran\\anaconda3\\envs\\gpu-env\\lib\\site-packages (from google-auth<3,>=1.6.3->tensorboard>=2.4.1->ultralytics==8.0.20) (5.3.1)\n",
      "Requirement already satisfied: pyasn1-modules>=0.2.1 in c:\\users\\shasteeswaran\\anaconda3\\envs\\gpu-env\\lib\\site-packages (from google-auth<3,>=1.6.3->tensorboard>=2.4.1->ultralytics==8.0.20) (0.3.0)\n",
      "Requirement already satisfied: rsa<5,>=3.1.4 in c:\\users\\shasteeswaran\\anaconda3\\envs\\gpu-env\\lib\\site-packages (from google-auth<3,>=1.6.3->tensorboard>=2.4.1->ultralytics==8.0.20) (4.9)\n",
      "Requirement already satisfied: six>=1.9.0 in c:\\users\\shasteeswaran\\anaconda3\\envs\\gpu-env\\lib\\site-packages (from google-auth<3,>=1.6.3->tensorboard>=2.4.1->ultralytics==8.0.20) (1.16.0)\n",
      "Requirement already satisfied: requests-oauthlib>=0.7.0 in c:\\users\\shasteeswaran\\anaconda3\\envs\\gpu-env\\lib\\site-packages (from google-auth-oauthlib<1.1,>=0.5->tensorboard>=2.4.1->ultralytics==8.0.20) (1.3.1)\n",
      "Requirement already satisfied: zipp>=3.1.0 in c:\\users\\shasteeswaran\\anaconda3\\envs\\gpu-env\\lib\\site-packages (from importlib-resources>=3.2.0->matplotlib>=3.2.2->ultralytics==8.0.20) (3.16.2)\n",
      "Requirement already satisfied: parso<0.9.0,>=0.8.3 in c:\\users\\shasteeswaran\\anaconda3\\envs\\gpu-env\\lib\\site-packages (from jedi>=0.16->ipython->ultralytics==8.0.20) (0.8.3)\n",
      "Requirement already satisfied: importlib-metadata>=4.4 in c:\\users\\shasteeswaran\\anaconda3\\envs\\gpu-env\\lib\\site-packages (from markdown>=2.6.8->tensorboard>=2.4.1->ultralytics==8.0.20) (6.8.0)\n",
      "Requirement already satisfied: wcwidth in c:\\users\\shasteeswaran\\anaconda3\\envs\\gpu-env\\lib\\site-packages (from prompt-toolkit!=3.0.37,<3.1.0,>=3.0.30->ipython->ultralytics==8.0.20) (0.2.6)\n",
      "Requirement already satisfied: MarkupSafe>=2.1.1 in c:\\users\\shasteeswaran\\anaconda3\\envs\\gpu-env\\lib\\site-packages (from werkzeug>=1.0.1->tensorboard>=2.4.1->ultralytics==8.0.20) (2.1.1)\n",
      "Requirement already satisfied: executing>=1.2.0 in c:\\users\\shasteeswaran\\anaconda3\\envs\\gpu-env\\lib\\site-packages (from stack-data->ipython->ultralytics==8.0.20) (1.2.0)\n",
      "Requirement already satisfied: asttokens>=2.1.0 in c:\\users\\shasteeswaran\\anaconda3\\envs\\gpu-env\\lib\\site-packages (from stack-data->ipython->ultralytics==8.0.20) (2.2.1)\n",
      "Requirement already satisfied: pure-eval in c:\\users\\shasteeswaran\\anaconda3\\envs\\gpu-env\\lib\\site-packages (from stack-data->ipython->ultralytics==8.0.20) (0.2.2)\n",
      "Requirement already satisfied: mpmath>=0.19 in c:\\users\\shasteeswaran\\anaconda3\\envs\\gpu-env\\lib\\site-packages (from sympy->torch>=1.7.0->ultralytics==8.0.20) (1.3.0)\n",
      "Requirement already satisfied: pyasn1<0.6.0,>=0.4.6 in c:\\users\\shasteeswaran\\anaconda3\\envs\\gpu-env\\lib\\site-packages (from pyasn1-modules>=0.2.1->google-auth<3,>=1.6.3->tensorboard>=2.4.1->ultralytics==8.0.20) (0.5.0)\n",
      "Requirement already satisfied: oauthlib>=3.0.0 in c:\\users\\shasteeswaran\\anaconda3\\envs\\gpu-env\\lib\\site-packages (from requests-oauthlib>=0.7.0->google-auth-oauthlib<1.1,>=0.5->tensorboard>=2.4.1->ultralytics==8.0.20) (3.2.2)\n",
      "Downloading sentry_sdk-1.32.0-py2.py3-none-any.whl (240 kB)\n",
      "   ---------------------------------------- 0.0/241.0 kB ? eta -:--:--\n",
      "   --------------------------------------- 241.0/241.0 kB 15.4 MB/s eta 0:00:00\n",
      "Installing collected packages: sentry-sdk, ultralytics\n",
      "  Attempting uninstall: ultralytics\n",
      "    Found existing installation: ultralytics 8.0.199\n",
      "    Uninstalling ultralytics-8.0.199:\n",
      "      Successfully uninstalled ultralytics-8.0.199\n",
      "Successfully installed sentry-sdk-1.32.0 ultralytics-8.0.20\n",
      "Note: you may need to restart the kernel to use updated packages.\n"
     ]
    }
   ],
   "source": [
    "#pip install ultralytics==8.0.20"
   ]
  },
  {
   "cell_type": "code",
   "execution_count": 2,
   "metadata": {},
   "outputs": [
    {
     "name": "stderr",
     "output_type": "stream",
     "text": [
      "Ultralytics YOLOv8.0.200  Python-3.9.12 torch-2.1.0+cpu CPU (11th Gen Intel Core(TM) i5-1135G7 2.40GHz)\n",
      "Setup complete  (8 CPUs, 7.7 GB RAM, 339.3/931.4 GB disk)\n"
     ]
    }
   ],
   "source": [
    "from IPython import display  \n",
    "display.clear_output()   \n",
    "\n",
    "import ultralytics  \n",
    "ultralytics.checks()"
   ]
  },
  {
   "cell_type": "code",
   "execution_count": 3,
   "metadata": {},
   "outputs": [],
   "source": [
    "from ultralytics import YOLO  \n",
    "from IPython.display import display, Image"
   ]
  },
  {
   "cell_type": "code",
   "execution_count": 19,
   "metadata": {},
   "outputs": [],
   "source": [
    "SOURCE_VIDEO_PATH = \"./video/img.jpg\""
   ]
  },
  {
   "cell_type": "code",
   "execution_count": 20,
   "metadata": {},
   "outputs": [],
   "source": [
    "#pip install supervision==0.1.0   "
   ]
  },
  {
   "cell_type": "code",
   "execution_count": 21,
   "metadata": {},
   "outputs": [
    {
     "name": "stdout",
     "output_type": "stream",
     "text": [
      "supervision.__version__: 0.1.0\n"
     ]
    }
   ],
   "source": [
    "from IPython import display \n",
    "\n",
    "display.clear_output()   \n",
    "import supervision \n",
    "\n",
    "print(\"supervision.__version__:\", supervision.__version__)"
   ]
  },
  {
   "cell_type": "code",
   "execution_count": 22,
   "metadata": {},
   "outputs": [],
   "source": [
    "#pip install ultralytics.nn.modules.conv"
   ]
  },
  {
   "cell_type": "code",
   "execution_count": 23,
   "metadata": {},
   "outputs": [],
   "source": [
    "MODEL = \"best.pt\""
   ]
  },
  {
   "cell_type": "code",
   "execution_count": 24,
   "metadata": {},
   "outputs": [
    {
     "name": "stderr",
     "output_type": "stream",
     "text": [
      "YOLOv8n summary (fused): 168 layers, 3006428 parameters, 0 gradients, 8.1 GFLOPs\n"
     ]
    }
   ],
   "source": [
    "from ultralytics import YOLO  \n",
    "model = YOLO(MODEL) \n",
    "model.fuse()"
   ]
  },
  {
   "cell_type": "code",
   "execution_count": 25,
   "metadata": {},
   "outputs": [
    {
     "name": "stdout",
     "output_type": "stream",
     "text": [
      "d:\\Works\\awiros\n"
     ]
    },
    {
     "name": "stderr",
     "output_type": "stream",
     "text": [
      "Ultralytics YOLOv8.0.200  Python-3.9.12 torch-2.1.0+cpu CPU (11th Gen Intel Core(TM) i5-1135G7 2.40GHz)\n",
      "YOLOv8n summary (fused): 168 layers, 3006428 parameters, 0 gradients, 8.1 GFLOPs\n",
      "\n",
      "image 1/1 d:\\Works\\awiros\\video\\img.jpg: 224x384 4 trucks, 43.1ms\n",
      "Speed: 3.6ms preprocess, 43.1ms inference, 0.0ms postprocess per image at shape (1, 3, 224, 384)\n",
      "Results saved to \u001b[1mruns\\detect\\predict3\u001b[0m\n",
      " Learn more at https://docs.ultralytics.com/modes/predict\n"
     ]
    }
   ],
   "source": [
    "%cd {HOME} \n",
    "!yolo task=detect mode=predict model=best.pt conf=0.25 source={SOURCE_VIDEO_PATH}"
   ]
  },
  {
   "cell_type": "code",
   "execution_count": null,
   "metadata": {},
   "outputs": [],
   "source": []
  }
 ],
 "metadata": {
  "kernelspec": {
   "display_name": "gpu-env",
   "language": "python",
   "name": "python3"
  },
  "language_info": {
   "codemirror_mode": {
    "name": "ipython",
    "version": 3
   },
   "file_extension": ".py",
   "mimetype": "text/x-python",
   "name": "python",
   "nbconvert_exporter": "python",
   "pygments_lexer": "ipython3",
   "version": "3.9.12"
  }
 },
 "nbformat": 4,
 "nbformat_minor": 2
}
